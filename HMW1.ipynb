{
  "nbformat": 4,
  "nbformat_minor": 0,
  "metadata": {
    "colab": {
      "provenance": [],
      "authorship_tag": "ABX9TyNMHJ5sDT3znorNjnC787jF",
      "include_colab_link": true
    },
    "kernelspec": {
      "name": "python3",
      "display_name": "Python 3"
    },
    "language_info": {
      "name": "python"
    }
  },
  "cells": [
    {
      "cell_type": "markdown",
      "metadata": {
        "id": "view-in-github",
        "colab_type": "text"
      },
      "source": [
        "<a href=\"https://colab.research.google.com/github/Abla-ouh/42school_piscine_experience/blob/master/HMW1.ipynb\" target=\"_parent\"><img src=\"https://colab.research.google.com/assets/colab-badge.svg\" alt=\"Open In Colab\"/></a>"
      ]
    },
    {
      "cell_type": "markdown",
      "source": [
        "# Part A – Price-Only Contract in a Decentralized Supply Chain\n",
        "\n",
        "**Course Context**:  \n",
        "This exercise examines the inefficiencies arising in a decentralized supply chain under a price-only wholesale contract, in which the supplier sets the wholesale price and the buyer chooses the order quantity facing stochastic demand.\n",
        "\n",
        "**Research Framing**:  \n",
        "Based on the modeling structure in *Lariviere and Porteus (2001)*, we analyze the classic double marginalization problem using a Weibull demand distribution, and assess the economic losses due to lack of coordination.\n",
        "\n",
        "**Demand Setting**:  \n",
        "- Demand follows:  \n",
        "  $$\n",
        "  D \\sim \\text{Weibull}(k = 2.5, \\lambda = 0.005)\n",
        "  $$\n",
        "- Retail price:  \n",
        "  $$\n",
        "  p = 3\n",
        "  $$\n",
        "- Supplier cost:  \n",
        "  $$\n",
        "  c = 1\n",
        "  $$\n"
      ],
      "metadata": {
        "id": "YeKeDok6Ab1X"
      }
    },
    {
      "cell_type": "markdown",
      "source": [
        "## Part A.1 – Compute the Optimal Wholesale Price $ w^* $ and Order Quantity $ q^* $\n",
        "\n",
        "We solve the Stackelberg game where the supplier (leader) sets $ w $ and anticipates the buyer's best response $ q(w) $.\n",
        "\n",
        "**Buyer’s Reaction Function:**\n",
        "\n",
        "$$\n",
        "q^*(w) = F_D^{-1} \\left( \\frac{p - w}{p} \\right)\n",
        "$$\n",
        "\n",
        "**Supplier's Profit Function:**\n",
        "\n",
        "$$\n",
        "\\pi_S(w) = (w - c) \\cdot q^*(w)\n",
        "$$\n",
        "\n",
        "We use the **bisection method** to find the optimal wholesale price $ w^* $ such that:\n",
        "\n",
        "$$\n",
        "\\frac{d\\pi_S(w)}{dw} = 0\n",
        "$$\n"
      ],
      "metadata": {
        "id": "IuzhMP77A6Cy"
      }
    },
    {
      "cell_type": "code",
      "source": [
        "import numpy as np\n",
        "from scipy.stats import weibull_min\n",
        "from scipy.optimize import bisect\n",
        "from scipy.integrate import quad\n",
        "import matplotlib.pyplot as plt\n",
        "\n",
        "# Parameters\n",
        "c = 1.0         # Cost\n",
        "p = 3.0         # Retail price\n",
        "k = 2.5         # Weibull shape\n",
        "lam = 0.005     # Weibull scale parameter (scale = 1/λ)\n",
        "\n",
        "# Distribution functions\n",
        "def weibull_cdf(x): return weibull_min.cdf(x, k, scale=1/lam)\n",
        "def weibull_pdf(x): return weibull_min.pdf(x, k, scale=1/lam)\n",
        "def weibull_ppf(q): return weibull_min.ppf(q, k, scale=1/lam)\n",
        "\n",
        "# Buyer's reaction function\n",
        "def q_star(w):\n",
        "    if w >= p: return 0\n",
        "    return weibull_ppf((p - w) / p)\n",
        "\n",
        "# Supplier profit function\n",
        "def supplier_profit(w):\n",
        "    if w <= c or w >= p: return -np.inf\n",
        "    return (w - c) * q_star(w)\n",
        "\n",
        "# Derivative approximation\n",
        "def d_profit(w, eps=1e-5):\n",
        "    return (supplier_profit(w + eps) - supplier_profit(w - eps)) / (2 * eps)\n",
        "\n",
        "# Solve via bisection\n",
        "w_star = bisect(d_profit, c + 1e-3, p - 1e-3, xtol=1e-6)\n",
        "q_opt = q_star(w_star)\n",
        "\n",
        "print(f\"Optimal wholesale price w* = {w_star:.4f}\")\n",
        "print(f\"Optimal buyer order quantity q* = {q_opt:.2f}\")\n"
      ],
      "metadata": {
        "colab": {
          "base_uri": "https://localhost:8080/"
        },
        "id": "cZYsFykEBPnB",
        "outputId": "e27c7c09-d09b-4eeb-d992-f0e7894c9108"
      },
      "execution_count": null,
      "outputs": [
        {
          "output_type": "stream",
          "name": "stdout",
          "text": [
            "Optimal wholesale price w* = 2.3791\n",
            "Optimal buyer order quantity q* = 111.46\n"
          ]
        }
      ]
    },
    {
      "cell_type": "markdown",
      "source": [
        "## Part A.2 – Compute Optimal Profits $ \\pi_S(w^*) $, $ \\pi_B(q^*, w^*) $\n",
        "\n",
        "**Buyer's Profit Function:**\n",
        "\n",
        "$$\n",
        "\\pi_B(q, w) = p \\cdot \\mathbb{E}[\\min(D, q)] - w \\cdot q\n",
        "$$\n",
        "\n",
        "To compute $ \\mathbb{E}[\\min(D, q)] $, we use:\n",
        "\n",
        "$$\n",
        "\\mathbb{E}[\\min(D, q)] = \\int_0^q x f_D(x) \\, dx + q \\cdot \\left(1 - F_D(q)\\right)\n",
        "$$\n",
        "\n",
        "We evaluate the profits $ \\pi_S(w^*) $ and $ \\pi_B(q^*, w^*) $ numerically below using this expected value expression.\n"
      ],
      "metadata": {
        "id": "ZjjRjVLiGRCl"
      }
    },
    {
      "cell_type": "code",
      "source": [
        "# Expected min(D, q)\n",
        "def E_min(q):\n",
        "    part1 = quad(lambda x: x * weibull_pdf(x), 0, q)[0]\n",
        "    part2 = q * (1 - weibull_cdf(q))\n",
        "    return part1 + part2\n",
        "\n",
        "# Buyer profit\n",
        "def buyer_profit(q, w):\n",
        "    return p * E_min(q) - w * q\n",
        "\n",
        "# Supplier profit\n",
        "pi_S = supplier_profit(w_star)\n",
        "pi_B = buyer_profit(q_opt, w_star)\n",
        "\n",
        "print(f\"Supplier profit π_S(w*) = {pi_S:.2f}\")\n",
        "print(f\"Buyer profit π_B(q*, w*) = {pi_B:.2f}\")\n"
      ],
      "metadata": {
        "colab": {
          "base_uri": "https://localhost:8080/"
        },
        "id": "vA6bbp6NGJTa",
        "outputId": "5cfe3aed-28fd-4523-be04-af0cf507ca2e"
      },
      "execution_count": null,
      "outputs": [
        {
          "output_type": "stream",
          "name": "stdout",
          "text": [
            "Supplier profit π_S(w*) = 153.72\n",
            "Buyer profit π_B(q*, w*) = 48.47\n"
          ]
        }
      ]
    },
    {
      "cell_type": "markdown",
      "source": [
        "## Part A.3 – Supply Chain Efficiency\n",
        "\n",
        "**Centralized Benchmark:**\n",
        "\n",
        "$$\n",
        "\\pi^* = \\max_q \\left[ p \\cdot \\mathbb{E}[\\min(D, q)] - c \\cdot q \\right]\n",
        "$$\n",
        "\n",
        "**Supply Chain Efficiency:**\n",
        "\n",
        "$$\n",
        "\\text{Efficiency} = \\frac{\\pi_S(w^*) + \\pi_B(q^*, w^*)}{\\pi^*}\n",
        "$$\n",
        "\n",
        "This metric quantifies the economic loss due to double marginalization in the decentralized system.\n"
      ],
      "metadata": {
        "id": "CgDJSoEXHkUE"
      }
    },
    {
      "cell_type": "code",
      "source": [
        "from scipy.optimize import minimize_scalar\n",
        "\n",
        "# Centralized profit function\n",
        "def centralized_profit(q):\n",
        "    return p * E_min(q) - c * q\n",
        "\n",
        "res = minimize_scalar(lambda q: -centralized_profit(q), bounds=(1, 10000), method='bounded')\n",
        "q_central = res.x\n",
        "pi_star = centralized_profit(q_central)\n",
        "\n",
        "efficiency = (pi_S + pi_B) / pi_star\n",
        "\n",
        "print(f\"Centralized optimal order q* = {q_central:.2f}\")\n",
        "print(f\"Centralized total profit π* = {pi_star:.2f}\")\n",
        "print(f\"Supply chain efficiency = {efficiency:.3%}\")\n"
      ],
      "metadata": {
        "colab": {
          "base_uri": "https://localhost:8080/"
        },
        "id": "85uIVzLIHhDj",
        "outputId": "e88809e2-ff13-456b-d56c-4aac59f3f082"
      },
      "execution_count": null,
      "outputs": [
        {
          "output_type": "stream",
          "name": "stdout",
          "text": [
            "Centralized optimal order q* = 207.67\n",
            "Centralized total profit π* = 269.15\n",
            "Supply chain efficiency = 75.123%\n"
          ]
        }
      ]
    },
    {
      "cell_type": "markdown",
      "source": [
        "## Plot – Supplier Profit vs. Wholesale Price\n",
        "\n",
        "This plot confirms unimodality of the supplier’s profit function, aligning with the theory of regular distributions in Stackelberg pricing.\n"
      ],
      "metadata": {
        "id": "k1lpA-cSI1Jh"
      }
    },
    {
      "cell_type": "code",
      "source": [
        "w_vals = np.linspace(c + 0.01, p - 0.01, 200)\n",
        "profits = [supplier_profit(w) for w in w_vals]\n",
        "\n",
        "plt.figure(figsize=(8, 4))\n",
        "plt.plot(w_vals, profits, label=\"Supplier Profit\")\n",
        "plt.axvline(w_star, color=\"red\", linestyle=\"--\", label=f\"w* = {w_star:.2f}\")\n",
        "plt.title(\"Supplier Profit vs. Wholesale Price\")\n",
        "plt.xlabel(\"Wholesale Price w\")\n",
        "plt.ylabel(\"Profit\")\n",
        "plt.legend()\n",
        "plt.grid(True)\n",
        "plt.show()\n"
      ],
      "metadata": {
        "colab": {
          "base_uri": "https://localhost:8080/",
          "height": 410
        },
        "id": "NE12BtdiIh3Y",
        "outputId": "0048627d-10a5-488b-d8f4-954e4122abf7"
      },
      "execution_count": null,
      "outputs": [
        {
          "output_type": "display_data",
          "data": {
            "text/plain": [
              "<Figure size 800x400 with 1 Axes>"
            ],
            "image/png": "[encoded data removed]"
          },
          "metadata": {}
        }
      ]
    },
    {
      "cell_type": "markdown",
      "source": [
        "## Final Analysis and Insights\n",
        "\n",
        "We analyzed the price-only contract in a decentralized two-stage supply chain where the supplier sets $w$ and the buyer responds with $q(w)$, under demand uncertainty following a Weibull distribution.\n",
        "\n",
        "---\n",
        "\n",
        "### Results Summary\n",
        "\n",
        "- Optimal wholesale price: $w^* = 2.3791$\n",
        "- Buyer's optimal order: $q^* = 111.46$\n",
        "- Supplier profit: $\\pi_S(w^*) = 153.72$\n",
        "- Buyer profit: $\\pi_B(q^*, w^*) = 48.47$\n",
        "- Centralized optimal order: $q^{\\text{central}} = 207.67$\n",
        "- Centralized profit: $\\pi^* = 269.15$\n",
        "- Supply chain efficiency: $\\frac{\\pi_S + \\pi_B}{\\pi^*} = 75.12\\%$\n",
        "\n",
        "---\n",
        "\n",
        "### Interpretation\n",
        "\n",
        "- The supplier's markup over cost is high: $w^* - c = 1.3791$, causing the buyer to order significantly less than the centralized optimum (a 46% reduction in order quantity).\n",
        "- This under-ordering leads to a 25% efficiency loss due to double marginalization, consistent with standard results in Stackelberg price-only contracts (*Lariviere & Porteus, 2001*).\n",
        "- The supplier profit function is unimodal, as expected under regular demand distributions; the bisection method effectively locates the global maximum.\n",
        "\n",
        "---\n",
        "\n",
        "### Remarks\n",
        "\n",
        "- Efficiency loss is economically meaningful and directly attributable to decentralized decision-making.\n",
        "- Coordination mechanisms (e.g., two-part tariffs or buy-back contracts) are necessary to restore system-optimal outcomes.\n"
      ],
      "metadata": {
        "id": "s1SJEvrRLcoh"
      }
    },
    {
      "cell_type": "markdown",
      "source": [
        "\n",
        "\n",
        "---------------------------------\n",
        "\n",
        "-------\n",
        "\n",
        "\n",
        "\n",
        "# Part B – Buyback Contract with Normally Distributed Demand\n",
        "\n",
        "We now consider a **buyback contract** for a decentralized supply chain.\n",
        "\n",
        "\n",
        "### Parameters\n",
        "\n",
        "- Production cost: $c = 3$\n",
        "- Salvage value: $v = 1$\n",
        "- Supplier goodwill loss: $g_S = 2$\n",
        "- Buyer goodwill loss: $g_B = 3$\n",
        "- Retail price: $p = 10$\n",
        "- Demand: $D \\sim \\mathcal{N}(\\mu = 100, \\sigma = 50)$\n",
        "\n",
        "\n",
        "### Tasks\n",
        "\n",
        "1. Propose a **buyback contract** $(w, b)$ that coordinates the supply chain.\n",
        "\n",
        "2. Compute:\n",
        "   - Supplier profit $\\pi_S^*$\n",
        "   - Buyer profit $\\pi_B^*$\n",
        "   - Based on normally distributed demand\n"
      ],
      "metadata": {
        "id": "CUblbX-akBaU"
      }
    },
    {
      "cell_type": "markdown",
      "source": [
        "## Part B.1 – Mathematical Derivation of Coordinating Buyback Contract\n",
        "\n",
        "We have to propose a buyback contract $(w, b)$ that coordinates a decentralized supply chain. The contract must induce the buyer to order the **centralized optimal quantity $q^*$** despite acting in his own interest.\n",
        "\n",
        "---\n",
        "\n",
        "### 1. Centralized Optimality Condition\n",
        "\n",
        "From the centralized problem ( Lecture 1, Slide 11), the supply chain profit is:\n",
        "\n",
        "$$\n",
        "\\pi^{\\text{central}}(q) = p \\cdot \\mathbb{E}[\\min(q, D)] + v \\cdot \\mathbb{E}[(q - D)^+] + (g_S + g_B) \\cdot \\mathbb{E}[(D - q)^+] - c \\cdot q\n",
        "$$\n",
        "\n",
        "The first-order condition yields the **centralized critical fractile**:\n",
        "\n",
        "$$\n",
        "F_D(q^*) = \\frac{p + g_S + g_B - c}{p + g_S + g_B - v}\n",
        "$$\n",
        "\n",
        "---\n",
        "\n",
        "### 2. Buyer's First-Order Condition under Buyback Contract\n",
        "\n",
        "Under a buyback contract $(w, b)$, the buyer solves:\n",
        "\n",
        "$$\n",
        "\\pi_B(q) = p \\cdot \\mathbb{E}[\\min(q, D)] + b \\cdot \\mathbb{E}[(q - D)^+] + g_B \\cdot \\mathbb{E}[(D - q)^+] - w \\cdot q\n",
        "$$\n",
        "\n",
        "The buyer’s critical fractile condition is:\n",
        "\n",
        "$$\n",
        "F_D(q^{\\text{buyer}}) = \\frac{p + g_B - w}{p + g_B - b}\n",
        "$$\n",
        "\n",
        "To coordinate the chain, we must ensure:\n",
        "\n",
        "$$\n",
        "F_D(q^*) = \\frac{p + g_B - w}{p + g_B - b}\n",
        "$$\n",
        "\n",
        "---\n",
        "\n",
        "### 3. Solving the Coordination Condition\n",
        "\n",
        "Equating the buyer and centralized critical fractiles:\n",
        "\n",
        "$$\n",
        "\\frac{p + g_B - w}{p + g_B - b} = \\frac{p + g_S + g_B - c}{p + g_S + g_B - v}\n",
        "$$\n",
        "\n",
        "Solving this identity for $w$ gives:\n",
        "\n",
        "$$\n",
        "w = p + g_B - \\left( \\frac{p + g_B - b}{p + g_S + g_B - v} \\right)(p + g_S + g_B - c)\n",
        "$$\n",
        "\n",
        "This defines all $(w, b)$ pairs that coordinate the chain. A canonical solution is:\n",
        "\n",
        "$$\n",
        "w = c, \\quad b = v\n",
        "$$\n",
        "\n",
        "---\n",
        "\n",
        "### 4. Parameter Substitution and Final Contract\n",
        "\n",
        "Using the given parameters:\n",
        "\n",
        "- $p = 10$\n",
        "- $c = 3$\n",
        "- $v = 1$\n",
        "- $g_S = 2$\n",
        "- $g_B = 3$\n",
        "\n",
        "The centralized critical fractile is:\n",
        "\n",
        "$$\n",
        "F_D(q^*) = \\frac{10 + 2 + 3 - 3}{10 + 2 + 3 - 1} = \\frac{12}{14} = 0.8571\n",
        "$$\n",
        "\n",
        "We now confirm that choosing:\n",
        "\n",
        "$$\n",
        "w = c = 3, \\quad b = v = 1\n",
        "$$\n",
        "\n",
        "results in:\n",
        "\n",
        "$$\n",
        "F_D(q^{\\text{buyer}}) = \\frac{10 + 3 - 3}{10 + 3 - 1} = \\frac{10}{12} = 0.8333\n",
        "$$\n",
        "\n",
        "which is **not** equal to the centralized value $0.8571$. Thus, **this particular buyback pair does not perfectly coordinate**.\n",
        "\n",
        "To find a **contract that does**, we solve:\n",
        "\n",
        "$$\n",
        "\\frac{10 + 3 - w}{10 + 3 - b} = \\frac{12}{14}\n",
        "\\Rightarrow w = 13 - \\frac{12}{14} \\cdot (13 - b)\n",
        "$$\n",
        "\n",
        "This gives us a **one-parameter family** of coordinating contracts. For example, choose:\n",
        "\n",
        "$$\n",
        "b = 1 \\Rightarrow w = 13 - \\frac{12}{14} \\cdot 12 = 13 - 10.29 = 2.71\n",
        "$$\n",
        "\n",
        "So, a valid coordinating contract is:\n",
        "\n",
        "$$\n",
        "(w, b) = (2.71,\\ 1.00)\n",
        "$$\n",
        "\n",
        "This ensures:\n",
        "- The buyer’s critical fractile is $0.8571$\n",
        "- The buyer orders $q^*$\n",
        "- The channel is coordinated\n",
        "\n",
        "---\n",
        "\n",
        "### 5. Conclusion\n",
        "\n",
        "We derived the coordination condition from first principles and applied it to the given parameters. The contract:\n",
        "\n",
        "$$\n",
        "(w^*, b^*) = (2.71,\\ 1.00)\n",
        "$$\n",
        "\n",
        "achieves perfect coordination. While the canonical choice $(w = c,\\ b = v)$ often works, it **does not** in this case due to mismatch in underage and overage cost alignment caused by asymmetric goodwill losses.\n",
        "\n",
        "This confirms that coordination must be analytically verified and parameterized, not assumed.\n"
      ],
      "metadata": {
        "id": "2fTgGhWpmjyr"
      }
    },
    {
      "cell_type": "markdown",
      "source": [
        "## Part B.2 – Determine Optimal Profits $ \\pi_S^*, \\pi_B^* $ Under Buyback Contract\n",
        "\n",
        "We now compute the supplier’s and buyer’s expected profits under the **coordinating buyback contract** derived in Part B.1, using the following parameters:\n",
        "\n",
        "- $p = 10$: retail price  \n",
        "- $c = 3$: supplier unit cost  \n",
        "- $v = 1$: salvage value  \n",
        "- $g_S = 2$: supplier goodwill loss  \n",
        "- $g_B = 3$: buyer goodwill loss  \n",
        "- $w = 2.71$: wholesale price (from coordination condition)  \n",
        "- $b = 1.00$: buyback price (from coordination condition)  \n",
        "\n",
        "Demand is normally distributed:\n",
        "\n",
        "$$\n",
        "D \\sim \\mathcal{N}(\\mu = 100,\\ \\sigma = 50)\n",
        "$$\n",
        "\n",
        "---\n",
        "\n",
        "### Centralized Critical Fractile and Order Quantity\n",
        "\n",
        "From Part B.1, the **centralized critical fractile** is:\n",
        "\n",
        "$$\n",
        "F_D(q^*) = \\frac{p + g_S + g_B - c}{p + g_S + g_B - v} = \\frac{12}{14} = 0.8571\n",
        "$$\n",
        "\n",
        "Given $D \\sim \\mathcal{N}(100, 50^2)$, the centralized optimal order quantity is:\n",
        "\n",
        "$$\n",
        "q^* = \\mu + \\sigma \\cdot \\Phi^{-1}\\left(F_D(q^*)\\right)\n",
        "$$\n",
        "\n",
        "We now use this order quantity to evaluate the buyer and supplier profits under the proposed contract.\n"
      ],
      "metadata": {
        "id": "Fq-gOwByILzf"
      }
    },
    {
      "cell_type": "code",
      "source": [
        "import numpy as np\n",
        "from scipy.stats import norm\n",
        "from scipy.integrate import quad\n",
        "\n",
        "# Given parameters\n",
        "p = 10      # Retail price\n",
        "c = 3       # Supplier cost\n",
        "v = 1       # Salvage value\n",
        "gS = 2      # Supplier goodwill loss\n",
        "gB = 3      # Buyer goodwill loss\n",
        "w = 2.71    # Wholesale price (from coordination)\n",
        "b = 1.00    # Buyback price (from coordination)\n",
        "\n",
        "mu = 100    # Mean demand\n",
        "sigma = 50  # Demand standard deviation\n",
        "\n",
        "# Define the demand distribution\n",
        "FD = norm(loc=mu, scale=sigma)\n",
        "\n",
        "# Centralized critical fractile\n",
        "fractile_star = (p + gS + gB - c) / (p + gS + gB - v)\n",
        "q_star = FD.ppf(fractile_star)\n",
        "\n",
        "# E[min(D, q)]\n",
        "def E_min(q):\n",
        "    part1, _ = quad(lambda x: x * FD.pdf(x), 0, q)\n",
        "    part2 = q * (1 - FD.cdf(q))\n",
        "    return part1 + part2\n",
        "\n",
        "# E[(q - D)^+]\n",
        "def E_overstock(q):\n",
        "    overstock, _ = quad(lambda x: (q - x) * FD.pdf(x), 0, q)\n",
        "    return overstock\n",
        "\n",
        "# E[(D - q)^+]\n",
        "def E_underage(q):\n",
        "    underage, _ = quad(lambda x: (x - q) * FD.pdf(x), q, np.inf)\n",
        "    return underage\n",
        "\n",
        "# Buyer profit\n",
        "def buyer_profit(q):\n",
        "    return (\n",
        "        p * E_min(q) +\n",
        "        b * E_overstock(q) +\n",
        "        gB * E_underage(q) -\n",
        "        w * q\n",
        "    )\n",
        "\n",
        "# Centralized profit\n",
        "def centralized_profit(q):\n",
        "    return (\n",
        "        p * E_min(q) +\n",
        "        v * E_overstock(q) +\n",
        "        (gS + gB) * E_underage(q) -\n",
        "        c * q\n",
        "    )\n",
        "\n",
        "# Supplier profit = total profit - buyer profit\n",
        "def supplier_profit(q):\n",
        "    return centralized_profit(q) - buyer_profit(q)\n",
        "\n",
        "# Compute values at optimal order quantity q*\n",
        "pi_B = buyer_profit(q_star)\n",
        "pi_S = supplier_profit(q_star)\n",
        "pi_total = centralized_profit(q_star)\n",
        "\n",
        "print(f\"Optimal order quantity q* = {q_star:.2f}\")\n",
        "print(f\"Buyer profit π_B* = {pi_B:.2f}\")\n",
        "print(f\"Supplier profit π_S* = {pi_S:.2f}\")\n",
        "print(f\"Centralized total profit π* = {pi_total:.2f}\")\n"
      ],
      "metadata": {
        "id": "248LDgJ2I4Ps",
        "colab": {
          "base_uri": "https://localhost:8080/"
        },
        "outputId": "16d5c446-9069-4247-c4ae-6a02362ae610"
      },
      "execution_count": 1,
      "outputs": [
        {
          "output_type": "stream",
          "name": "stdout",
          "text": [
            "Optimal order quantity q* = 153.38\n",
            "Buyer profit π_B* = 616.11\n",
            "Supplier profit π_S* = -37.17\n",
            "Centralized total profit π* = 578.95\n"
          ]
        }
      ]
    },
    {
      "cell_type": "markdown",
      "source": [
        "### Interpretation of Results\n",
        "\n",
        "The buyer's and supplier's profits were computed using the centralized optimal order quantity $q^* = 153.38$, under the coordinating buyback contract:\n",
        "\n",
        "- Wholesale price $w = 2.71$\n",
        "- Buyback price $b = 1.00$\n",
        "\n",
        "We obtained the following:\n",
        "\n",
        "- Buyer profit: $\\pi_B^* = 616.11$\n",
        "- Supplier profit: $\\pi_S^* = -37.17$\n",
        "- Total chain profit: $\\pi^* = 578.95$\n",
        "\n",
        "Although the contract induces the buyer to order the optimal $q^*$, the resulting profit allocation is **economically infeasible**: the supplier incurs a loss while the buyer captures more than 100% of the total value.\n",
        "\n",
        "This illustrates that **coordination of ordering behavior does not imply acceptable profit sharing**.\n",
        "\n",
        "To fully implement such a contract in practice, additional constraints are needed to ensure:\n",
        "\n",
        "1. **Individual rationality**: $\\pi_S^* \\geq 0$\n",
        "2. **Incentive compatibility**: The supplier is willing to offer the contract\n",
        "3. **Fair allocation**: Profits reflect bargaining power or contribution\n",
        "\n",
        "This insight aligns with the literature (e.g., *Lariviere & Porteus, 2001*) which emphasizes that coordination and fairness are distinct objectives. Contracts should be designed not only to align ordering decisions, but also to ensure sustainability and acceptability for all parties involved.\n"
      ],
      "metadata": {
        "id": "luYJr61z0FpT"
      }
    },
    {
      "cell_type": "markdown",
      "source": [
        "## **Part C – Freshness-Sensitive Demand and Retail Models**\n",
        "\n",
        "We analyze a grocery retailer's ordering decision under uncertainty, where demand depends on product freshness. Two models are considered:\n",
        "\n",
        "- **Traditional Retailer**: No visibility into freshness; ordering is based on marginal profit optimization under a known demand distribution.\n",
        "- **Blockchain-Enabled Retailer**: Observes freshness level \\( x \\), enabling adaptive ordering based on conditional demand distributions.\n",
        "\n",
        "We begin with the traditional retailer case below.\n"
      ],
      "metadata": {
        "id": "LHTRVf_HXIid"
      }
    },
    {
      "cell_type": "markdown",
      "source": [
        "### 1.a – Traditional Retailer: Optimal Order Quantity $q^*_{\\text{TB}}$\n",
        "\n",
        "In this setting, the retailer does **not observe the freshness level** of the product and places an order based only on the **marginal demand distribution**.\n",
        "\n",
        "---\n",
        "\n",
        "#### Parameters\n",
        "\n",
        "- $p = 3.6$: Retail price per unit  \n",
        "- $w = 1.4$: Wholesale purchase price  \n",
        "- $\\alpha = 350$: Mean of demand  \n",
        "- $\\beta = 82$: Standard deviation of demand  \n",
        "- Demand: $D \\sim \\mathcal{N}(\\alpha, \\beta^2)$\n",
        "\n",
        "---\n",
        "\n",
        "#### Objective\n",
        "\n",
        "The traditional retailer maximizes expected profit:\n",
        "\n",
        "$$\n",
        "\\pi_{\\text{TB}}(q) = p \\cdot \\mathbb{E}[\\min(D, q)] - w \\cdot q\n",
        "$$\n",
        "\n",
        "Using the classical newsvendor critical fractile condition:\n",
        "\n",
        "$$\n",
        "F_D(q^*_{\\text{TB}}) = \\frac{p - w}{p}\n",
        "$$\n",
        "\n",
        "And since $D \\sim \\mathcal{N}(\\alpha, \\beta^2)$, we compute the optimal order quantity as:\n",
        "\n",
        "$$\n",
        "q^*_{\\text{TB}} = \\alpha + \\beta \\cdot \\Phi^{-1} \\left( \\frac{p - w}{p} \\right)\n",
        "$$\n",
        "\n",
        "where $\\Phi^{-1}(\\cdot)$ is the inverse CDF (quantile function) of the standard normal distribution.\n"
      ],
      "metadata": {
        "id": "u3F7luJEXqi0"
      }
    },
    {
      "cell_type": "code",
      "source": [
        "import numpy as np\n",
        "from scipy.stats import norm\n",
        "\n",
        "# Parameters\n",
        "p = 3.6\n",
        "w = 1.4\n",
        "alpha = 350\n",
        "beta = 82\n",
        "\n",
        "# Critical fractile\n",
        "fractile = (p - w) / p\n",
        "\n",
        "# Optimal order quantity\n",
        "q_star_TB = alpha + beta * norm.ppf(fractile)\n",
        "print(f\"Optimal order quantity q*_TB = {q_star_TB:.2f}\")"
      ],
      "metadata": {
        "colab": {
          "base_uri": "https://localhost:8080/"
        },
        "id": "qhKbdD9rIYPM",
        "outputId": "5a87847d-dd02-419c-ce5f-3b4944e9ded7"
      },
      "execution_count": 1,
      "outputs": [
        {
          "output_type": "stream",
          "name": "stdout",
          "text": [
            "Optimal order quantity q*_TB = 373.14\n"
          ]
        }
      ]
    },
    {
      "cell_type": "markdown",
      "source": [
        "### 1.b – Traditional Retailer: Optimal Expected Profit $\\pi^*_{\\text{TB}}$\n",
        "\n",
        "With the optimal order quantity $q^*_{\\text{TB}} = 373.14$, we now compute the retailer’s **expected profit**.\n",
        "\n",
        "---\n",
        "\n",
        "#### Profit Function\n",
        "\n",
        "$$\n",
        "\\pi_{\\text{TB}}(q) = p \\cdot \\mathbb{E}[\\min(D, q)] - w \\cdot q\n",
        "$$\n",
        "\n",
        "To evaluate $\\mathbb{E}[\\min(D, q)]$, we use the following identity:\n",
        "\n",
        "$$\n",
        "\\mathbb{E}[\\min(D, q)] = \\int_0^q x \\cdot f_D(x)\\,dx + q \\cdot \\left(1 - F_D(q)\\right)\n",
        "$$\n",
        "\n",
        "where $f_D(x)$ and $F_D(x)$ are the PDF and CDF of the normal distribution, respectively.\n"
      ],
      "metadata": {
        "id": "duyzk2UAYMtF"
      }
    },
    {
      "cell_type": "code",
      "source": [
        "from scipy.integrate import quad\n",
        "\n",
        "# Define distribution\n",
        "FD = norm(loc=alpha, scale=beta)\n",
        "\n",
        "# Expected min(D, q)\n",
        "def E_min(q):\n",
        "    part1, _ = quad(lambda x: x * FD.pdf(x), 0, q)\n",
        "    part2 = q * (1 - FD.cdf(q))\n",
        "    return part1 + part2\n",
        "\n",
        "# Profit function\n",
        "def profit_TB(q):\n",
        "    return p * E_min(q) - w * q\n",
        "\n",
        "# Compute expected profit at q*\n",
        "pi_star_TB = profit_TB(q_star_TB)\n",
        "print(f\"Expected profit π*_TB = {pi_star_TB:.2f}\")"
      ],
      "metadata": {
        "colab": {
          "base_uri": "https://localhost:8080/"
        },
        "id": "mTvvJSASX8Fo",
        "outputId": "2c500810-987e-47ce-a1c6-8183d08c7bb4"
      },
      "execution_count": 2,
      "outputs": [
        {
          "output_type": "stream",
          "name": "stdout",
          "text": [
            "Expected profit π*_TB = 656.83\n"
          ]
        }
      ]
    },
    {
      "cell_type": "markdown",
      "source": [
        "### 1.c – Traditional Retailer: Expected Food Waste $W^*_{\\text{TB}}$\n",
        "\n",
        "---\n",
        "\n",
        "#### Definition\n",
        "\n",
        "Food waste is modeled as the expected unsold quantity at the end of the selling season:\n",
        "\n",
        "$$\n",
        "W_{\\text{TB}}(q) = \\mathbb{E}[(q - D)^+] = \\int_0^q (q - x) \\cdot f_D(x) \\, dx\n",
        "$$\n",
        "\n",
        "We evaluate this at the optimal order quantity $q^*_{\\text{TB}} = 373.14$.\n"
      ],
      "metadata": {
        "id": "bVMUWkq8YoPY"
      }
    },
    {
      "cell_type": "code",
      "source": [
        "# Expected food waste E[(q - D)^+]\n",
        "def expected_waste(q):\n",
        "    waste, _ = quad(lambda x: (q - x) * FD.pdf(x), 0, q)\n",
        "    return waste\n",
        "\n",
        "# Compute expected waste at q*\n",
        "W_star_TB = expected_waste(q_star_TB)\n",
        "print(f\"Expected food waste W*_TB = {W_star_TB:.2f}\")"
      ],
      "metadata": {
        "colab": {
          "base_uri": "https://localhost:8080/"
        },
        "id": "loAbKlvWYYwg",
        "outputId": "c3ef9ac7-5ce8-47e1-ac08-643918a8d7c5"
      },
      "execution_count": 3,
      "outputs": [
        {
          "output_type": "stream",
          "name": "stdout",
          "text": [
            "Expected food waste W*_TB = 45.57\n"
          ]
        }
      ]
    },
    {
      "cell_type": "markdown",
      "source": [
        "## Part C.1 – Traditional Retailer\n",
        "\n",
        "### Model Parameters\n",
        "\n",
        "- $w = 1.4$: wholesale price  \n",
        "- $p = 3.6$: retail price  \n",
        "- Demand: $D \\sim \\mathcal{N}(\\alpha = 350,\\ \\beta = 82)$\n",
        "\n",
        "---\n",
        "\n",
        "### Optimal Order Quantity $q^*_{\\text{TB}}$\n",
        "\n",
        "The newsvendor critical fractile:\n",
        "\n",
        "$$\n",
        "F_D(q^*_{\\text{TB}}) = \\frac{p - w}{p} = \\frac{3.6 - 1.4}{3.6} = 0.6111\n",
        "$$\n",
        "\n",
        "Then:\n",
        "\n",
        "$$\n",
        "q^*_{\\text{TB}} = \\alpha + \\beta \\cdot \\Phi^{-1}(0.6111) = 373.14\n",
        "$$\n",
        "\n",
        "---\n",
        "\n",
        "### Expected Profit $\\pi^*_{\\text{TB}}$\n",
        "\n",
        "$$\n",
        "\\mathbb{E}[\\min(q, D)] = \\int_0^q x f_D(x)\\,dx + q \\cdot (1 - F_D(q))\n",
        "$$\n",
        "\n",
        "$$\n",
        "\\pi_{\\text{TB}}(q) = p \\cdot \\mathbb{E}[\\min(q, D)] - w \\cdot q\n",
        "$$\n",
        "\n",
        "$$\n",
        "\\pi^*_{\\text{TB}} = \\pi_{\\text{TB}}(q^*_{\\text{TB}}) = 656.83\n",
        "$$\n",
        "\n",
        "---\n",
        "\n",
        "### Expected Food Waste $W^*_{\\text{TB}}$\n",
        "\n",
        "$$\n",
        "W_{\\text{TB}}(q) = \\mathbb{E}[(q - D)^+] = \\int_0^q (q - x) f_D(x)\\,dx\n",
        "$$\n",
        "\n",
        "$$\n",
        "W^*_{\\text{TB}} = W_{\\text{TB}}(q^*_{\\text{TB}}) = 45.57\n",
        "$$\n"
      ],
      "metadata": {
        "id": "PSTUSdKHZWU3"
      }
    },
    {
      "cell_type": "markdown",
      "source": [],
      "metadata": {
        "id": "mq0mM-ErZTYg"
      }
    },
    {
      "cell_type": "markdown",
      "source": [
        "## Part C.2.1 – Blockchain Retailer: Optimal Order Quantities $q^*_{\\text{BB}}(x)$\n",
        "\n",
        "We solve the freshness-aware newsvendor problem under blockchain visibility.\n",
        "\n",
        "For freshness level $x$, demand is:\n",
        "\n",
        "$$\n",
        "D(x) \\sim \\mathcal{N}(\\mu_x, \\sigma), \\quad \\text{with} \\quad\n",
        "\\mu_x = \\alpha + \\beta x, \\quad \\sigma = 44\n",
        "$$\n",
        "\n",
        "Using the critical fractile logic:\n",
        "\n",
        "$$\n",
        "F_{D(x)}(q^*) = \\frac{p - w}{p} = \\frac{3.6 - 1.4}{3.6} = 0.6111\n",
        "$$\n",
        "\n",
        "Then:\n",
        "\n",
        "$$\n",
        "q^*_{\\text{BB}}(x) = \\mu_x + \\sigma \\cdot \\Phi^{-1}(0.6111)\n",
        "$$\n",
        "\n",
        "We compute $q^*_{\\text{BB}}(x)$ for:\n",
        "\n",
        "- $x = 1$: $\\mu_1 = 350 + 82 \\cdot 1 = 432$\n",
        "- $x = 5$: $\\mu_5 = 350 + 82 \\cdot 5 = 760$\n",
        "\n",
        "Using $\\Phi^{-1}(0.6111) \\approx 0.2813$, we get:\n",
        "\n",
        "$$\n",
        "q^*_{\\text{BB}}(1) = 432 + 44 \\cdot 0.2813 = 444.38\n",
        "$$\n",
        "\n",
        "$$\n",
        "q^*_{\\text{BB}}(5) = 760 + 44 \\cdot 0.2813 = 772.38\n",
        "$$\n"
      ],
      "metadata": {
        "id": "6hmlCjhXZ3k5"
      }
    },
    {
      "cell_type": "code",
      "source": [
        "from scipy.stats import norm\n",
        "\n",
        "# Parameters\n",
        "p = 3.6\n",
        "w = 1.4\n",
        "alpha = 350\n",
        "beta = 82\n",
        "sigma = 44\n",
        "\n",
        "# Critical fractile and inverse CDF\n",
        "fractile = (p - w) / p\n",
        "z = norm.ppf(fractile)\n",
        "\n",
        "# Compute q*_BB(x)\n",
        "for x in [1, 5]:\n",
        "    mu_x = alpha + beta * x\n",
        "    q_star = mu_x + sigma * z\n",
        "    print(f\"x = {x} --> Optimal order quantity q*_BB(x) = {q_star:.2f}\")\n"
      ],
      "metadata": {
        "colab": {
          "base_uri": "https://localhost:8080/"
        },
        "id": "qi0C44oYYxg4",
        "outputId": "dfc42774-739d-447d-e1f8-0aee61a23846"
      },
      "execution_count": 4,
      "outputs": [
        {
          "output_type": "stream",
          "name": "stdout",
          "text": [
            "x = 1 --> Optimal order quantity q*_BB(x) = 444.42\n",
            "x = 5 --> Optimal order quantity q*_BB(x) = 772.42\n"
          ]
        }
      ]
    },
    {
      "cell_type": "markdown",
      "source": [
        "> *We use full-precision inverse CDF to compute $q^*$ in code, while the manual derivation used $\\Phi^{-1}(0.6111) \\approx 0.2815$. This results in a small numerical difference (∼0.02 units), but it does not affect interpretation or conclusions.*\n"
      ],
      "metadata": {
        "id": "za1d_JbZc5y3"
      }
    },
    {
      "cell_type": "markdown",
      "source": [
        "## 2.2 – Blockchain Retailer: Expected Profit $\\pi^*_{\\text{BB}}(x)$\n",
        "\n",
        "We now compute the expected profit under blockchain visibility using the optimal order quantity from Part C.2.1.\n",
        "\n",
        "The expected profit function is:\n",
        "\n",
        "$$\n",
        "\\pi_{\\text{BB}}(q) = p \\cdot \\mathbb{E}[\\min(q, D)] - w \\cdot q\n",
        "$$\n",
        "\n",
        "Where:\n",
        "\n",
        "- $p = 3.6$: retail price  \n",
        "- $w = 1.4$: wholesale price  \n",
        "- $D \\sim \\mathcal{N}(\\mu_x,\\ \\sigma = 44)$\n",
        "\n",
        "We use the identity:\n",
        "\n",
        "$$\n",
        "\\mathbb{E}[\\min(q, D)] = \\int_0^q x f_D(x)\\,dx + q \\cdot \\left(1 - F_D(q)\\right)\n",
        "$$\n",
        "\n",
        "We evaluate this for $x = 1$ and $x = 5$, using $q^*_{\\text{BB}}(x)$ from Part C.2.1.\n"
      ],
      "metadata": {
        "id": "undT9nYgdnoE"
      }
    },
    {
      "cell_type": "code",
      "source": [
        "import numpy as np\n",
        "from scipy.stats import norm\n",
        "from scipy.integrate import quad\n",
        "\n",
        "# Parameters\n",
        "p = 3.6\n",
        "w = 1.4\n",
        "alpha = 350\n",
        "beta = 82\n",
        "sigma = 44\n",
        "z = norm.ppf((p - w) / p)  # Full precision\n",
        "\n",
        "# Compute E[min(q, D)]\n",
        "def E_min(q, dist):\n",
        "    part1, _ = quad(lambda x: x * dist.pdf(x), 0, q)\n",
        "    part2 = q * (1 - dist.cdf(q))\n",
        "    return part1 + part2\n",
        "\n",
        "# Profit function\n",
        "def profit(q, dist):\n",
        "    return p * E_min(q, dist) - w * q\n",
        "\n",
        "# Evaluate for x in {1, 5}\n",
        "for x in [1, 5]:\n",
        "    mu_x = alpha + beta * x\n",
        "    dist = norm(loc=mu_x, scale=sigma)\n",
        "    q_star = mu_x + sigma * z\n",
        "    pi_star = profit(q_star, dist)\n",
        "\n",
        "    print(f\"x = {x} --> π*_BB(x) = {pi_star:.2f}\")\n"
      ],
      "metadata": {
        "colab": {
          "base_uri": "https://localhost:8080/"
        },
        "id": "m12Wes2pbwbW",
        "outputId": "8180587a-162a-4873-8ac6-e300febebae8"
      },
      "execution_count": 5,
      "outputs": [
        {
          "output_type": "stream",
          "name": "stdout",
          "text": [
            "x = 1 --> π*_BB(x) = 889.67\n",
            "x = 5 --> π*_BB(x) = 1611.27\n"
          ]
        }
      ]
    },
    {
      "cell_type": "markdown",
      "source": [
        "## 2.3 – Blockchain Retailer: Expected Food Waste $W^*_{\\text{BB}}(x)$\n",
        "\n",
        "We now compute the expected food waste under blockchain visibility, defined as the expected amount of overstock:\n",
        "\n",
        "$$\n",
        "W^*_{\\text{BB}}(x) = \\mathbb{E}[(q^*_{\\text{BB}}(x) - D)^+]\n",
        "$$\n",
        "\n",
        "This can be expressed using the integral:\n",
        "\n",
        "$$\n",
        "\\mathbb{E}[(q - D)^+] = \\int_0^q (q - x) \\cdot f_D(x)\\, dx\n",
        "$$\n",
        "\n",
        "We apply this formula for freshness levels $x = 1$ and $x = 5$, using the optimal order quantities $q^*_{\\text{BB}}(x)$ obtained previously.\n"
      ],
      "metadata": {
        "id": "fG_a7bZBfd1p"
      }
    },
    {
      "cell_type": "code",
      "source": [
        "import numpy as np\n",
        "from scipy.stats import norm\n",
        "from scipy.integrate import quad\n",
        "\n",
        "# Parameters\n",
        "p = 3.6\n",
        "w = 1.4\n",
        "alpha = 350\n",
        "beta = 82\n",
        "sigma = 44\n",
        "z = norm.ppf((p - w) / p)\n",
        "\n",
        "# Expected food waste E[(q - D)^+]\n",
        "def expected_waste(q, dist):\n",
        "    waste, _ = quad(lambda x: (q - x) * dist.pdf(x), 0, q)\n",
        "    return waste\n",
        "\n",
        "# Compute food waste at x = 1 and x = 5\n",
        "for x in [1, 5]:\n",
        "    mu_x = alpha + beta * x\n",
        "    dist = norm(loc=mu_x, scale=sigma)\n",
        "    q_star = mu_x + sigma * z\n",
        "    waste = expected_waste(q_star, dist)\n",
        "\n",
        "    print(f\"x = {x} --> W*_BB(x) = {waste:.2f}\")\n"
      ],
      "metadata": {
        "colab": {
          "base_uri": "https://localhost:8080/"
        },
        "id": "E-6qf6oeak3r",
        "outputId": "1d105b0a-2085-43f5-a97c-a618970a27d4"
      },
      "execution_count": 6,
      "outputs": [
        {
          "output_type": "stream",
          "name": "stdout",
          "text": [
            "x = 1 --> W*_BB(x) = 24.46\n",
            "x = 5 --> W*_BB(x) = 24.46\n"
          ]
        }
      ]
    },
    {
      "cell_type": "markdown",
      "source": [
        "We observe that the expected food waste under blockchain visibility is equal across freshness levels:\n",
        "\n",
        "$$\n",
        "W^*_{\\text{BB}}(x) = \\mathbb{E}[(q^*(x) - D(x))^+]\n",
        "$$\n",
        "\n",
        "Given the demand distribution:\n",
        "\n",
        "$$\n",
        "D(x) \\sim \\mathcal{N}(\\mu_x, \\sigma), \\quad \\mu_x = \\alpha + \\beta x\n",
        "$$\n",
        "\n",
        "and the optimal order quantity under blockchain:\n",
        "\n",
        "$$\n",
        "q^*(x) = \\mu_x + \\sigma \\cdot \\Phi^{-1}(f)\n",
        "$$\n",
        "\n",
        "Then the overstock is:\n",
        "\n",
        "$$\n",
        "q^*(x) - D(x) = (\\mu_x + \\sigma \\cdot \\Phi^{-1}(f)) - D(x)\n",
        "$$\n",
        "\n",
        "Since $D(x) \\sim \\mathcal{N}(\\mu_x, \\sigma)$, define a standardized variable:\n",
        "\n",
        "$$\n",
        "Z = \\frac{D(x) - \\mu_x}{\\sigma} \\sim \\mathcal{N}(0,1)\n",
        "$$\n",
        "\n",
        "Then:\n",
        "\n",
        "$$\n",
        "q^*(x) - D(x) = \\sigma \\cdot (\\Phi^{-1}(f) - Z)\n",
        "$$\n",
        "\n",
        "So:\n",
        "\n",
        "$$\n",
        "(q^*(x) - D(x))^+ = \\sigma \\cdot (\\Phi^{-1}(f) - Z)^+\n",
        "$$\n",
        "\n",
        "Taking expectation:\n",
        "\n",
        "$$\n",
        "\\mathbb{E}[(q^*(x) - D(x))^+] = \\sigma \\cdot \\mathbb{E}[(\\Phi^{-1}(f) - Z)^+]\n",
        "$$\n",
        "\n",
        "This expression is **independent of $x$** — it depends only on the fractile $f$ and the standard deviation $\\sigma$.\n",
        "\n",
        "**Conclusion**: The expected food waste $W^*_{\\text{BB}}(x)$ is constant across all freshness levels $x$ under blockchain coordination.\n"
      ],
      "metadata": {
        "id": "0qQKEY8xg4J2"
      }
    },
    {
      "cell_type": "markdown",
      "source": [
        "## **Part C. Comparative Analysis and Conclusion**\n",
        "\n",
        "---\n",
        "\n",
        "### 1. Order Quantities\n",
        "\n",
        "- **Traditional Retailer:**\n",
        "\n",
        "  $$\n",
        "  q^*_{\\text{TB}} = 373.14\n",
        "  $$\n",
        "\n",
        "- **Blockchain Retailer:**\n",
        "\n",
        "  $$\n",
        "  q^*_{\\text{BB}}(1) = 444.42, \\quad q^*_{\\text{BB}}(5) = 772.42\n",
        "  $$\n",
        "\n",
        "- **Observation:** Blockchain visibility enables freshness-adjusted ordering. Higher freshness $x$ leads to higher $\\mu_x$, thus a higher optimal order quantity.\n",
        "\n",
        "---\n",
        "\n",
        "### 2. Expected Profit\n",
        "\n",
        "- **Traditional Retailer:**\n",
        "\n",
        "  $$\n",
        "  \\pi^*_{\\text{TB}} = 656.83\n",
        "  $$\n",
        "\n",
        "- **Blockchain Retailer:**\n",
        "\n",
        "  $$\n",
        "  \\pi^*_{\\text{BB}}(1) = 889.67, \\quad \\pi^*_{\\text{BB}}(5) = 1611.27\n",
        "  $$\n",
        "\n",
        "- **Observation:** Profit increases significantly with freshness level under blockchain. This gain comes from demand being more accurately matched to product quality.\n",
        "\n",
        "---\n",
        "\n",
        "### 3. Expected Food Waste\n",
        "\n",
        "- **Traditional Retailer:**\n",
        "\n",
        "  $$\n",
        "  W^*_{\\text{TB}} = 45.57\n",
        "  $$\n",
        "\n",
        "- **Blockchain Retailer:**\n",
        "\n",
        "  $$\n",
        "  W^*_{\\text{BB}}(1) = W^*_{\\text{BB}}(5) = 24.46\n",
        "  $$\n",
        "\n",
        "- **Explanation:** As derived earlier,\n",
        "\n",
        "  $$\n",
        "  W^*_{\\text{BB}}(x) = \\sigma \\cdot \\mathbb{E}[(\\Phi^{-1}(f) - Z)^+]\n",
        "  $$\n",
        "\n",
        "  which is independent of $x$. Thus, waste remains constant under optimal ordering aligned with demand freshness.\n",
        "\n",
        "---\n",
        "\n",
        "### Conclusion\n",
        "\n",
        "- Blockchain visibility leads to improved order decisions by adapting to observed freshness.\n",
        "- It yields significantly higher expected profits and lower food waste compared to the traditional model.\n",
        "- Waste remains constant due to distributional properties, despite order size changes.\n",
        "- Therefore, blockchain enables both economic and environmental benefits via quality-based demand targeting.\n"
      ],
      "metadata": {
        "id": "kfLDrPVXL5pF"
      }
    },
    {
      "cell_type": "markdown",
      "source": [
        "## Part D – Bayesian Inventory Learning with Weibull Demand\n",
        "\n",
        "This section addresses a dynamic inventory problem faced by a retailer under demand uncertainty. The retailer sources products at a unit cost $c = 1$ and sells them at a unit price $p = 2.5$. Demand follows a Weibull distribution with shape parameter $k = 1$, which corresponds to an exponential distribution with unknown scale $\\theta$.\n",
        "\n",
        "We take a Bayesian approach: the scale parameter $\\theta$ is not known but is modeled using a prior distribution. Specifically, $\\theta \\sim \\text{Inverse-Gamma}(\\alpha, S)$ with prior parameters:\n",
        "\n",
        "- $\\alpha = 1.1$\n",
        "- $S = 110$\n",
        "\n",
        "The analysis proceeds in two steps:\n",
        "\n",
        "1. **Compute the optimal order quantity** given this prior using numerical optimization.\n",
        "2. **Update the prior** after observing realized demand and compute the next-period optimal order quantity.\n",
        "\n",
        "---\n",
        "\n",
        "I see that this exercise connects directly to the Bayesian inventory management literature, particularly in settings with lost-sales or demand censoring, where **posterior learning of the demand parameter improves decision quality over time**.\n"
      ],
      "metadata": {
        "id": "wbR-rCh1Nvky"
      }
    },
    {
      "cell_type": "markdown",
      "source": [
        "## 1 – Optimal Order Quantity under Bayesian Weibull Demand\n",
        "\n",
        "We consider a retailer facing Weibull demand with:\n",
        "\n",
        "- Shape parameter: $k = 1$\n",
        "- Unknown scale parameter: $\\theta \\sim \\text{Gamma}(\\alpha = 1.1,\\ S = 110)$\n",
        "\n",
        "Cost and price parameters:\n",
        "\n",
        "- Unit cost: $c = 1$\n",
        "- Unit selling price: $p = 2.5$\n",
        "\n",
        "The critical fractile is:\n",
        "\n",
        "$$\n",
        "\\frac{p - c}{p} = \\frac{1.5}{2.5} = 0.6\n",
        "$$\n",
        "\n",
        "Our goal is to find the order quantity $q^*$ that satisfies:\n",
        "\n",
        "$$\n",
        "\\mathbb{P}(D \\leq q^*) = 0.6\n",
        "$$\n",
        "\n",
        "Since $D \\sim \\text{Weibull}(k = 1,\\ \\theta)$ and $\\theta \\sim \\text{Gamma}(\\alpha,\\ S)$, the predictive distribution of $D$ is a **mixture of exponentials**. Its cumulative distribution function is:\n",
        "\n",
        "$$\n",
        "F(q) = \\mathbb{E}_\\theta\\left[1 - e^{-q/\\theta}\\right]\n",
        "$$\n",
        "\n",
        "We numerically solve for $q^*$ such that:\n",
        "\n",
        "$$\n",
        "F(q^*) = 0.6\n",
        "$$\n",
        "\n",
        "using a root-finding method such as `scipy.optimize.root_scalar`.\n"
      ],
      "metadata": {
        "id": "vGSuJTwsOsSe"
      }
    },
    {
      "cell_type": "code",
      "source": [
        "import numpy as np\n",
        "from scipy.stats import gamma\n",
        "from scipy.integrate import quad\n",
        "from scipy.optimize import root_scalar\n",
        "\n",
        "# Parameters\n",
        "alpha = 1.1\n",
        "S = 110\n",
        "target_fractile = 0.6  # (p - c) / p\n",
        "\n",
        "# Gamma prior for theta\n",
        "def prior_pdf(theta):\n",
        "    return gamma.pdf(theta, a=alpha, scale=S)\n",
        "\n",
        "# Predictive CDF: E_theta[1 - exp(-q / theta)]\n",
        "def predictive_cdf(q):\n",
        "    integrand = lambda theta: (1 - np.exp(-q / theta)) * prior_pdf(theta)\n",
        "    result, _ = quad(integrand, 1e-6, 500, limit=100)\n",
        "    return result\n",
        "\n",
        "# Root finding to solve F(q) = 0.6\n",
        "def objective(q):\n",
        "    return predictive_cdf(q) - target_fractile\n",
        "\n",
        "sol = root_scalar(objective, bracket=[0.01, 1000], method='brentq')\n",
        "q_star = sol.root\n",
        "\n",
        "print(f\"Optimal order quantity q* = {q_star:.2f}\")\n"
      ],
      "metadata": {
        "colab": {
          "base_uri": "https://localhost:8080/"
        },
        "id": "RQA_o4BJfg4y",
        "outputId": "9bf78bd5-9bf2-4847-95ec-ec9e44727b83"
      },
      "execution_count": 1,
      "outputs": [
        {
          "output_type": "stream",
          "name": "stdout",
          "text": [
            "Optimal order quantity q* = 75.73\n"
          ]
        }
      ]
    },
    {
      "cell_type": "markdown",
      "source": [
        "## Part D.2 – Bayesian Update and Optimal Order Quantity for Next Period\n",
        "\n",
        "We now update the prior using the observed demand from the first period and recompute the optimal order quantity for the next period.\n",
        "\n",
        "---\n",
        "\n",
        "### 1. Bayesian Posterior Update\n",
        "\n",
        "Given that demand follows a Weibull distribution with known shape $k = 1$ and unknown scale parameter $\\theta$, and that the prior over $\\theta$ is Gamma distributed:\n",
        "\n",
        "$$\n",
        "\\theta \\sim \\text{Gamma}(\\alpha, S)\n",
        "$$\n",
        "\n",
        "After observing a realized demand $d = 95$, the posterior becomes:\n",
        "\n",
        "$$\n",
        "\\theta \\mid d \\sim \\text{Gamma}(\\alpha + 1,\\ S + d)\n",
        "$$\n",
        "\n",
        "With $\\alpha = 1.1$, $S = 110$, and $d = 95$, we get:\n",
        "\n",
        "$$\n",
        "\\alpha_{\\text{post}} = 2.1, \\quad S_{\\text{post}} = 205\n",
        "$$\n",
        "\n",
        "---\n",
        "\n",
        "### 2. Predictive CDF under Posterior\n",
        "\n",
        "As in Part D.1, we must compute:\n",
        "\n",
        "$$\n",
        "F(q) = \\mathbb{E}_\\theta \\left[1 - e^{-q/\\theta} \\right]\n",
        "= \\int_0^\\infty \\left(1 - e^{-q/\\theta} \\right) f_{\\theta\\,|\\,\\text{post}}(\\theta) \\, d\\theta\n",
        "$$\n",
        "\n",
        "We solve for $q$ such that:\n",
        "\n",
        "$$\n",
        "F(q^*) = \\frac{p - c}{p} = \\frac{2.5 - 1}{2.5} = 0.6\n",
        "$$\n"
      ],
      "metadata": {
        "id": "ELsrh5DRPfy3"
      }
    },
    {
      "cell_type": "code",
      "source": [
        "import numpy as np\n",
        "from scipy.stats import gamma\n",
        "from scipy.integrate import quad\n",
        "from scipy.optimize import root_scalar\n",
        "\n",
        "# Posterior parameters\n",
        "alpha_post = 2.1\n",
        "S_post = 205\n",
        "target_fractile = 0.6  # (p - c) / p\n",
        "\n",
        "# Posterior pdf\n",
        "def posterior_pdf(theta):\n",
        "    return gamma.pdf(theta, a=alpha_post, scale=S_post)\n",
        "\n",
        "# Predictive CDF with posterior\n",
        "def predictive_cdf_post(q):\n",
        "    integrand = lambda theta: (1 - np.exp(-q / theta)) * posterior_pdf(theta)\n",
        "    result, _ = quad(integrand, 1e-6, 500, limit=100)\n",
        "    return result\n",
        "\n",
        "# Root objective\n",
        "def objective_post(q):\n",
        "    return predictive_cdf_post(q) - target_fractile\n",
        "\n",
        "# Root finding\n",
        "sol_post = root_scalar(objective_post, bracket=[0.01, 1000], method='brentq')\n",
        "q_star_post = sol_post.root\n",
        "\n",
        "print(f\"Optimal order quantity for next period q* = {q_star_post:.2f}\")"
      ],
      "metadata": {
        "colab": {
          "base_uri": "https://localhost:8080/"
        },
        "id": "rHzY3C5kO-Ri",
        "outputId": "fc7e5c99-e1b2-4dc5-8869-8f9b40a20a65"
      },
      "execution_count": 2,
      "outputs": [
        {
          "output_type": "stream",
          "name": "stdout",
          "text": [
            "Optimal order quantity for next period q* = 618.03\n"
          ]
        }
      ]
    },
    {
      "cell_type": "markdown",
      "source": [
        "### Final Conclusion\n",
        "\n",
        "In conclusion, the retailer’s optimal ordering behavior under uncertain Weibull demand with an unknown scale parameter $\\theta$ was successfully modeled using a Bayesian decision framework.\n",
        "\n",
        "By leveraging a conjugate Gamma prior and updating it with observed demand data, we were able to refine the predictive distribution for the next period. This adaptive strategy significantly improves responsiveness: the optimal order quantity increased from:\n",
        "\n",
        "$$\n",
        "q^* = 75.73 \\quad \\text{(under prior belief)}\n",
        "$$\n",
        "\n",
        "to\n",
        "\n",
        "$$\n",
        "q^*_{\\text{next}} = 618.03 \\quad \\text{(after observing demand)}\n",
        "$$\n",
        "\n",
        "This sharp change highlights the value of demand learning and Bayesian updating in inventory systems under parameter uncertainty.\n"
      ],
      "metadata": {
        "id": "Cbiky-lXQWVG"
      }
    },
    {
      "cell_type": "code",
      "source": [],
      "metadata": {
        "id": "PvuHebzQPzDz"
      },
      "execution_count": null,
      "outputs": []
    }
  ]
}